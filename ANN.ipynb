{
  "nbformat": 4,
  "nbformat_minor": 0,
  "metadata": {
    "colab": {
      "name": "ANN.ipynb",
      "provenance": [],
      "collapsed_sections": [],
      "authorship_tag": "ABX9TyNaOcgtlBvHRuubYnaWE7WM",
      "include_colab_link": true
    },
    "kernelspec": {
      "name": "python3",
      "display_name": "Python 3"
    }
  },
  "cells": [
    {
      "cell_type": "markdown",
      "metadata": {
        "id": "view-in-github",
        "colab_type": "text"
      },
      "source": [
        "<a href=\"https://colab.research.google.com/github/Nurudeen2020/Python-for-Machine-Learning/blob/main/ANN.ipynb\" target=\"_parent\"><img src=\"https://colab.research.google.com/assets/colab-badge.svg\" alt=\"Open In Colab\"/></a>"
      ]
    },
    {
      "cell_type": "code",
      "metadata": {
        "id": "9OX1pPdEugDl"
      },
      "source": [
        "import numpy as np\r\n",
        "import pandas as pd\r\n",
        "import matplotlib.pyplot as plt\r\n",
        "import seaborn as sns\r\n",
        "%matplotlib inline"
      ],
      "execution_count": 1,
      "outputs": []
    },
    {
      "cell_type": "code",
      "metadata": {
        "colab": {
          "base_uri": "https://localhost:8080/",
          "height": 197
        },
        "id": "F7hBJ3JFuseR",
        "outputId": "a435bac2-632c-46fd-aa95-ddadb9057cc0"
      },
      "source": [
        "heart_data  = pd.read_csv(\"https://raw.githubusercontent.com/dphi-official/Datasets/master/Heart_Disease/Training_set_heart.csv\" )\r\n",
        "heart_data.head()"
      ],
      "execution_count": 2,
      "outputs": [
        {
          "output_type": "execute_result",
          "data": {
            "text/html": [
              "<div>\n",
              "<style scoped>\n",
              "    .dataframe tbody tr th:only-of-type {\n",
              "        vertical-align: middle;\n",
              "    }\n",
              "\n",
              "    .dataframe tbody tr th {\n",
              "        vertical-align: top;\n",
              "    }\n",
              "\n",
              "    .dataframe thead th {\n",
              "        text-align: right;\n",
              "    }\n",
              "</style>\n",
              "<table border=\"1\" class=\"dataframe\">\n",
              "  <thead>\n",
              "    <tr style=\"text-align: right;\">\n",
              "      <th></th>\n",
              "      <th>age</th>\n",
              "      <th>sex</th>\n",
              "      <th>cp</th>\n",
              "      <th>trestbps</th>\n",
              "      <th>chol</th>\n",
              "      <th>fbs</th>\n",
              "      <th>restecg</th>\n",
              "      <th>thalach</th>\n",
              "      <th>exang</th>\n",
              "      <th>oldpeak</th>\n",
              "      <th>slope</th>\n",
              "      <th>ca</th>\n",
              "      <th>thal</th>\n",
              "      <th>target</th>\n",
              "    </tr>\n",
              "  </thead>\n",
              "  <tbody>\n",
              "    <tr>\n",
              "      <th>0</th>\n",
              "      <td>48</td>\n",
              "      <td>1</td>\n",
              "      <td>2</td>\n",
              "      <td>124</td>\n",
              "      <td>255</td>\n",
              "      <td>1</td>\n",
              "      <td>1</td>\n",
              "      <td>175</td>\n",
              "      <td>0</td>\n",
              "      <td>0.0</td>\n",
              "      <td>2</td>\n",
              "      <td>2</td>\n",
              "      <td>2</td>\n",
              "      <td>1</td>\n",
              "    </tr>\n",
              "    <tr>\n",
              "      <th>1</th>\n",
              "      <td>68</td>\n",
              "      <td>0</td>\n",
              "      <td>2</td>\n",
              "      <td>120</td>\n",
              "      <td>211</td>\n",
              "      <td>0</td>\n",
              "      <td>0</td>\n",
              "      <td>115</td>\n",
              "      <td>0</td>\n",
              "      <td>1.5</td>\n",
              "      <td>1</td>\n",
              "      <td>0</td>\n",
              "      <td>2</td>\n",
              "      <td>1</td>\n",
              "    </tr>\n",
              "    <tr>\n",
              "      <th>2</th>\n",
              "      <td>46</td>\n",
              "      <td>1</td>\n",
              "      <td>0</td>\n",
              "      <td>120</td>\n",
              "      <td>249</td>\n",
              "      <td>0</td>\n",
              "      <td>0</td>\n",
              "      <td>144</td>\n",
              "      <td>0</td>\n",
              "      <td>0.8</td>\n",
              "      <td>2</td>\n",
              "      <td>0</td>\n",
              "      <td>3</td>\n",
              "      <td>0</td>\n",
              "    </tr>\n",
              "    <tr>\n",
              "      <th>3</th>\n",
              "      <td>60</td>\n",
              "      <td>1</td>\n",
              "      <td>0</td>\n",
              "      <td>130</td>\n",
              "      <td>253</td>\n",
              "      <td>0</td>\n",
              "      <td>1</td>\n",
              "      <td>144</td>\n",
              "      <td>1</td>\n",
              "      <td>1.4</td>\n",
              "      <td>2</td>\n",
              "      <td>1</td>\n",
              "      <td>3</td>\n",
              "      <td>0</td>\n",
              "    </tr>\n",
              "    <tr>\n",
              "      <th>4</th>\n",
              "      <td>43</td>\n",
              "      <td>1</td>\n",
              "      <td>0</td>\n",
              "      <td>115</td>\n",
              "      <td>303</td>\n",
              "      <td>0</td>\n",
              "      <td>1</td>\n",
              "      <td>181</td>\n",
              "      <td>0</td>\n",
              "      <td>1.2</td>\n",
              "      <td>1</td>\n",
              "      <td>0</td>\n",
              "      <td>2</td>\n",
              "      <td>1</td>\n",
              "    </tr>\n",
              "  </tbody>\n",
              "</table>\n",
              "</div>"
            ],
            "text/plain": [
              "   age  sex  cp  trestbps  chol  fbs  ...  exang  oldpeak  slope  ca  thal  target\n",
              "0   48    1   2       124   255    1  ...      0      0.0      2   2     2       1\n",
              "1   68    0   2       120   211    0  ...      0      1.5      1   0     2       1\n",
              "2   46    1   0       120   249    0  ...      0      0.8      2   0     3       0\n",
              "3   60    1   0       130   253    0  ...      1      1.4      2   1     3       0\n",
              "4   43    1   0       115   303    0  ...      0      1.2      1   0     2       1\n",
              "\n",
              "[5 rows x 14 columns]"
            ]
          },
          "metadata": {
            "tags": []
          },
          "execution_count": 2
        }
      ]
    },
    {
      "cell_type": "code",
      "metadata": {
        "colab": {
          "base_uri": "https://localhost:8080/"
        },
        "id": "04Lv3Tf1v4nL",
        "outputId": "e5b1e492-9065-47c9-aca4-2d84e7f1622b"
      },
      "source": [
        "heart_data.shape"
      ],
      "execution_count": 8,
      "outputs": [
        {
          "output_type": "execute_result",
          "data": {
            "text/plain": [
              "(212, 14)"
            ]
          },
          "metadata": {
            "tags": []
          },
          "execution_count": 8
        }
      ]
    },
    {
      "cell_type": "code",
      "metadata": {
        "colab": {
          "base_uri": "https://localhost:8080/"
        },
        "id": "u2ROV9nBux2u",
        "outputId": "723e0242-ddf8-4647-8be3-6ed6a344f6be"
      },
      "source": [
        "heart_data.info()"
      ],
      "execution_count": 4,
      "outputs": [
        {
          "output_type": "stream",
          "text": [
            "<class 'pandas.core.frame.DataFrame'>\n",
            "RangeIndex: 212 entries, 0 to 211\n",
            "Data columns (total 14 columns):\n",
            " #   Column    Non-Null Count  Dtype  \n",
            "---  ------    --------------  -----  \n",
            " 0   age       212 non-null    int64  \n",
            " 1   sex       212 non-null    int64  \n",
            " 2   cp        212 non-null    int64  \n",
            " 3   trestbps  212 non-null    int64  \n",
            " 4   chol      212 non-null    int64  \n",
            " 5   fbs       212 non-null    int64  \n",
            " 6   restecg   212 non-null    int64  \n",
            " 7   thalach   212 non-null    int64  \n",
            " 8   exang     212 non-null    int64  \n",
            " 9   oldpeak   212 non-null    float64\n",
            " 10  slope     212 non-null    int64  \n",
            " 11  ca        212 non-null    int64  \n",
            " 12  thal      212 non-null    int64  \n",
            " 13  target    212 non-null    int64  \n",
            "dtypes: float64(1), int64(13)\n",
            "memory usage: 23.3 KB\n"
          ],
          "name": "stdout"
        }
      ]
    },
    {
      "cell_type": "code",
      "metadata": {
        "id": "V4hzsfIPu2nO"
      },
      "source": [
        "X= heart_data.drop('target', axis=1)\r\n",
        "y= heart_data['target']"
      ],
      "execution_count": 45,
      "outputs": []
    },
    {
      "cell_type": "code",
      "metadata": {
        "id": "4LS9NOlgvfa-"
      },
      "source": [
        "import sklearn\r\n",
        "from sklearn.model_selection import train_test_split"
      ],
      "execution_count": 46,
      "outputs": []
    },
    {
      "cell_type": "code",
      "metadata": {
        "id": "6xOUjYnJvp9W"
      },
      "source": [
        "X_train, X_test, y_train, y_test= train_test_split(X, y, test_size= 0.2, random_state= 0)"
      ],
      "execution_count": 47,
      "outputs": []
    },
    {
      "cell_type": "code",
      "metadata": {
        "id": "D2Am89Mnv2iu"
      },
      "source": [
        "#Feature scaling\r\n",
        "from sklearn.preprocessing import StandardScaler\r\n",
        "sc= StandardScaler()\r\n",
        "X_train= sc.fit_transform(X_train)\r\n",
        "X_test= sc.transform(X_test)"
      ],
      "execution_count": 48,
      "outputs": []
    },
    {
      "cell_type": "code",
      "metadata": {
        "id": "7F980gbNxAFd"
      },
      "source": [
        "import keras \r\n",
        "from keras.models import Sequential\r\n",
        "from keras.layers import Dense\r\n",
        "from keras.layers import LeakyReLU, PReLU, ELU\r\n",
        "from keras.layers import Dropout"
      ],
      "execution_count": 49,
      "outputs": []
    },
    {
      "cell_type": "code",
      "metadata": {
        "id": "bWgQaQLwxqG2"
      },
      "source": [
        "#Initializing the ANN\r\n",
        "classifier= Sequential()"
      ],
      "execution_count": 50,
      "outputs": []
    },
    {
      "cell_type": "code",
      "metadata": {
        "id": "2U9ZlBvZyqRH"
      },
      "source": [
        "#Adding the input and the first hidden layer\r\n",
        "classifier.add(Dense(units=10, kernel_initializer= 'he_uniform', activation= 'relu', input_dim =13))"
      ],
      "execution_count": 51,
      "outputs": []
    },
    {
      "cell_type": "code",
      "metadata": {
        "id": "uR2V_Dohz_Lf"
      },
      "source": [
        "#Adding the second hidden layer\r\n",
        "classifier.add(Dense(units=15, kernel_initializer= 'he_uniform', activation= 'relu'))"
      ],
      "execution_count": 52,
      "outputs": []
    },
    {
      "cell_type": "code",
      "metadata": {
        "id": "qkIifLa2Ffb7"
      },
      "source": [
        "#Adding the third hidden layer\r\n",
        "classifier.add(Dense(units=20, kernel_initializer= 'he_normal', activation= 'relu'))"
      ],
      "execution_count": 53,
      "outputs": []
    },
    {
      "cell_type": "code",
      "metadata": {
        "id": "tfb-00gp4cGS"
      },
      "source": [
        "#Adding the output layer\r\n",
        "classifier.add(Dense(units=1, kernel_initializer= 'glorot_uniform', activation= 'sigmoid'))"
      ],
      "execution_count": 54,
      "outputs": []
    },
    {
      "cell_type": "code",
      "metadata": {
        "id": "k9i2zMJL43sQ"
      },
      "source": [
        "#Compiling the CNN\r\n",
        "classifier.compile(optimizer='adamax', loss= 'binary_crossentropy', metrics= ['accuracy'])"
      ],
      "execution_count": 55,
      "outputs": []
    },
    {
      "cell_type": "code",
      "metadata": {
        "colab": {
          "base_uri": "https://localhost:8080/"
        },
        "id": "T08yeHIM5Mfw",
        "outputId": "0e74630e-bc86-43dd-f760-2e3ed53f05a6"
      },
      "source": [
        "#Fitting the ANN to thee training set\r\n",
        "model_history= classifier.fit(X_train, y_train, validation_split=0.33, batch_size=10, epochs= 100)"
      ],
      "execution_count": 56,
      "outputs": [
        {
          "output_type": "stream",
          "text": [
            "Epoch 1/100\n",
            "12/12 [==============================] - 1s 16ms/step - loss: 1.5255 - accuracy: 0.5020 - val_loss: 1.0781 - val_accuracy: 0.4464\n",
            "Epoch 2/100\n",
            "12/12 [==============================] - 0s 4ms/step - loss: 1.1919 - accuracy: 0.5247 - val_loss: 0.9872 - val_accuracy: 0.4286\n",
            "Epoch 3/100\n",
            "12/12 [==============================] - 0s 15ms/step - loss: 1.0083 - accuracy: 0.5468 - val_loss: 0.9141 - val_accuracy: 0.4464\n",
            "Epoch 4/100\n",
            "12/12 [==============================] - 0s 4ms/step - loss: 1.1172 - accuracy: 0.4405 - val_loss: 0.8423 - val_accuracy: 0.4643\n",
            "Epoch 5/100\n",
            "12/12 [==============================] - 0s 4ms/step - loss: 1.0284 - accuracy: 0.4962 - val_loss: 0.7938 - val_accuracy: 0.4643\n",
            "Epoch 6/100\n",
            "12/12 [==============================] - 0s 4ms/step - loss: 0.8895 - accuracy: 0.5096 - val_loss: 0.7564 - val_accuracy: 0.5179\n",
            "Epoch 7/100\n",
            "12/12 [==============================] - 0s 4ms/step - loss: 0.8579 - accuracy: 0.4936 - val_loss: 0.7323 - val_accuracy: 0.5536\n",
            "Epoch 8/100\n",
            "12/12 [==============================] - 0s 4ms/step - loss: 0.7938 - accuracy: 0.5510 - val_loss: 0.7080 - val_accuracy: 0.5536\n",
            "Epoch 9/100\n",
            "12/12 [==============================] - 0s 4ms/step - loss: 0.7956 - accuracy: 0.4701 - val_loss: 0.6896 - val_accuracy: 0.5893\n",
            "Epoch 10/100\n",
            "12/12 [==============================] - 0s 4ms/step - loss: 0.7877 - accuracy: 0.4850 - val_loss: 0.6752 - val_accuracy: 0.5893\n",
            "Epoch 11/100\n",
            "12/12 [==============================] - 0s 5ms/step - loss: 0.6987 - accuracy: 0.4976 - val_loss: 0.6640 - val_accuracy: 0.6250\n",
            "Epoch 12/100\n",
            "12/12 [==============================] - 0s 5ms/step - loss: 0.6682 - accuracy: 0.5011 - val_loss: 0.6549 - val_accuracy: 0.6429\n",
            "Epoch 13/100\n",
            "12/12 [==============================] - 0s 5ms/step - loss: 0.6838 - accuracy: 0.5292 - val_loss: 0.6462 - val_accuracy: 0.6607\n",
            "Epoch 14/100\n",
            "12/12 [==============================] - 0s 4ms/step - loss: 0.6820 - accuracy: 0.6156 - val_loss: 0.6392 - val_accuracy: 0.6607\n",
            "Epoch 15/100\n",
            "12/12 [==============================] - 0s 4ms/step - loss: 0.6338 - accuracy: 0.6231 - val_loss: 0.6322 - val_accuracy: 0.6607\n",
            "Epoch 16/100\n",
            "12/12 [==============================] - 0s 4ms/step - loss: 0.6053 - accuracy: 0.6710 - val_loss: 0.6263 - val_accuracy: 0.6786\n",
            "Epoch 17/100\n",
            "12/12 [==============================] - 0s 4ms/step - loss: 0.5883 - accuracy: 0.6618 - val_loss: 0.6203 - val_accuracy: 0.6964\n",
            "Epoch 18/100\n",
            "12/12 [==============================] - 0s 4ms/step - loss: 0.6161 - accuracy: 0.6597 - val_loss: 0.6150 - val_accuracy: 0.6964\n",
            "Epoch 19/100\n",
            "12/12 [==============================] - 0s 4ms/step - loss: 0.6350 - accuracy: 0.6844 - val_loss: 0.6095 - val_accuracy: 0.6964\n",
            "Epoch 20/100\n",
            "12/12 [==============================] - 0s 4ms/step - loss: 0.5844 - accuracy: 0.7394 - val_loss: 0.6044 - val_accuracy: 0.7321\n",
            "Epoch 21/100\n",
            "12/12 [==============================] - 0s 4ms/step - loss: 0.6480 - accuracy: 0.7347 - val_loss: 0.5998 - val_accuracy: 0.7321\n",
            "Epoch 22/100\n",
            "12/12 [==============================] - 0s 4ms/step - loss: 0.6392 - accuracy: 0.7021 - val_loss: 0.5950 - val_accuracy: 0.7321\n",
            "Epoch 23/100\n",
            "12/12 [==============================] - 0s 4ms/step - loss: 0.6203 - accuracy: 0.7096 - val_loss: 0.5902 - val_accuracy: 0.7500\n",
            "Epoch 24/100\n",
            "12/12 [==============================] - 0s 4ms/step - loss: 0.5644 - accuracy: 0.7234 - val_loss: 0.5851 - val_accuracy: 0.8036\n",
            "Epoch 25/100\n",
            "12/12 [==============================] - 0s 4ms/step - loss: 0.5704 - accuracy: 0.7251 - val_loss: 0.5807 - val_accuracy: 0.8036\n",
            "Epoch 26/100\n",
            "12/12 [==============================] - 0s 4ms/step - loss: 0.5413 - accuracy: 0.7537 - val_loss: 0.5761 - val_accuracy: 0.8036\n",
            "Epoch 27/100\n",
            "12/12 [==============================] - 0s 4ms/step - loss: 0.5425 - accuracy: 0.7978 - val_loss: 0.5720 - val_accuracy: 0.8036\n",
            "Epoch 28/100\n",
            "12/12 [==============================] - 0s 4ms/step - loss: 0.5754 - accuracy: 0.7844 - val_loss: 0.5682 - val_accuracy: 0.8036\n",
            "Epoch 29/100\n",
            "12/12 [==============================] - 0s 4ms/step - loss: 0.5648 - accuracy: 0.7936 - val_loss: 0.5643 - val_accuracy: 0.8036\n",
            "Epoch 30/100\n",
            "12/12 [==============================] - 0s 5ms/step - loss: 0.5394 - accuracy: 0.7751 - val_loss: 0.5608 - val_accuracy: 0.8036\n",
            "Epoch 31/100\n",
            "12/12 [==============================] - 0s 4ms/step - loss: 0.5220 - accuracy: 0.7964 - val_loss: 0.5568 - val_accuracy: 0.7857\n",
            "Epoch 32/100\n",
            "12/12 [==============================] - 0s 5ms/step - loss: 0.5215 - accuracy: 0.7973 - val_loss: 0.5536 - val_accuracy: 0.7679\n",
            "Epoch 33/100\n",
            "12/12 [==============================] - 0s 4ms/step - loss: 0.5268 - accuracy: 0.7516 - val_loss: 0.5503 - val_accuracy: 0.7679\n",
            "Epoch 34/100\n",
            "12/12 [==============================] - 0s 4ms/step - loss: 0.5212 - accuracy: 0.7854 - val_loss: 0.5472 - val_accuracy: 0.7679\n",
            "Epoch 35/100\n",
            "12/12 [==============================] - 0s 4ms/step - loss: 0.5509 - accuracy: 0.7787 - val_loss: 0.5449 - val_accuracy: 0.7679\n",
            "Epoch 36/100\n",
            "12/12 [==============================] - 0s 4ms/step - loss: 0.4859 - accuracy: 0.8099 - val_loss: 0.5418 - val_accuracy: 0.8036\n",
            "Epoch 37/100\n",
            "12/12 [==============================] - 0s 4ms/step - loss: 0.4737 - accuracy: 0.8316 - val_loss: 0.5389 - val_accuracy: 0.8036\n",
            "Epoch 38/100\n",
            "12/12 [==============================] - 0s 5ms/step - loss: 0.4952 - accuracy: 0.8198 - val_loss: 0.5360 - val_accuracy: 0.8036\n",
            "Epoch 39/100\n",
            "12/12 [==============================] - 0s 4ms/step - loss: 0.4766 - accuracy: 0.7852 - val_loss: 0.5339 - val_accuracy: 0.8036\n",
            "Epoch 40/100\n",
            "12/12 [==============================] - 0s 5ms/step - loss: 0.4839 - accuracy: 0.8079 - val_loss: 0.5330 - val_accuracy: 0.8036\n",
            "Epoch 41/100\n",
            "12/12 [==============================] - 0s 5ms/step - loss: 0.4510 - accuracy: 0.8424 - val_loss: 0.5312 - val_accuracy: 0.8036\n",
            "Epoch 42/100\n",
            "12/12 [==============================] - 0s 4ms/step - loss: 0.4603 - accuracy: 0.8121 - val_loss: 0.5292 - val_accuracy: 0.8214\n",
            "Epoch 43/100\n",
            "12/12 [==============================] - 0s 4ms/step - loss: 0.4861 - accuracy: 0.7987 - val_loss: 0.5270 - val_accuracy: 0.8214\n",
            "Epoch 44/100\n",
            "12/12 [==============================] - 0s 4ms/step - loss: 0.4596 - accuracy: 0.8267 - val_loss: 0.5253 - val_accuracy: 0.8214\n",
            "Epoch 45/100\n",
            "12/12 [==============================] - 0s 4ms/step - loss: 0.4735 - accuracy: 0.8188 - val_loss: 0.5237 - val_accuracy: 0.8214\n",
            "Epoch 46/100\n",
            "12/12 [==============================] - 0s 4ms/step - loss: 0.4147 - accuracy: 0.8762 - val_loss: 0.5221 - val_accuracy: 0.8214\n",
            "Epoch 47/100\n",
            "12/12 [==============================] - 0s 4ms/step - loss: 0.4468 - accuracy: 0.8159 - val_loss: 0.5206 - val_accuracy: 0.7857\n",
            "Epoch 48/100\n",
            "12/12 [==============================] - 0s 5ms/step - loss: 0.4387 - accuracy: 0.8304 - val_loss: 0.5195 - val_accuracy: 0.7857\n",
            "Epoch 49/100\n",
            "12/12 [==============================] - 0s 5ms/step - loss: 0.4399 - accuracy: 0.8610 - val_loss: 0.5175 - val_accuracy: 0.7857\n",
            "Epoch 50/100\n",
            "12/12 [==============================] - 0s 4ms/step - loss: 0.4371 - accuracy: 0.8641 - val_loss: 0.5164 - val_accuracy: 0.7857\n",
            "Epoch 51/100\n",
            "12/12 [==============================] - 0s 4ms/step - loss: 0.4698 - accuracy: 0.8516 - val_loss: 0.5159 - val_accuracy: 0.7857\n",
            "Epoch 52/100\n",
            "12/12 [==============================] - 0s 5ms/step - loss: 0.4383 - accuracy: 0.8623 - val_loss: 0.5145 - val_accuracy: 0.7857\n",
            "Epoch 53/100\n",
            "12/12 [==============================] - 0s 4ms/step - loss: 0.4050 - accuracy: 0.8704 - val_loss: 0.5132 - val_accuracy: 0.7857\n",
            "Epoch 54/100\n",
            "12/12 [==============================] - 0s 4ms/step - loss: 0.4275 - accuracy: 0.8489 - val_loss: 0.5115 - val_accuracy: 0.7857\n",
            "Epoch 55/100\n",
            "12/12 [==============================] - 0s 4ms/step - loss: 0.4235 - accuracy: 0.8635 - val_loss: 0.5109 - val_accuracy: 0.7857\n",
            "Epoch 56/100\n",
            "12/12 [==============================] - 0s 5ms/step - loss: 0.4098 - accuracy: 0.8513 - val_loss: 0.5089 - val_accuracy: 0.7857\n",
            "Epoch 57/100\n",
            "12/12 [==============================] - 0s 4ms/step - loss: 0.4303 - accuracy: 0.8532 - val_loss: 0.5076 - val_accuracy: 0.7679\n",
            "Epoch 58/100\n",
            "12/12 [==============================] - 0s 4ms/step - loss: 0.4136 - accuracy: 0.8690 - val_loss: 0.5067 - val_accuracy: 0.7679\n",
            "Epoch 59/100\n",
            "12/12 [==============================] - 0s 5ms/step - loss: 0.4173 - accuracy: 0.8830 - val_loss: 0.5064 - val_accuracy: 0.7679\n",
            "Epoch 60/100\n",
            "12/12 [==============================] - 0s 5ms/step - loss: 0.4161 - accuracy: 0.8792 - val_loss: 0.5052 - val_accuracy: 0.7679\n",
            "Epoch 61/100\n",
            "12/12 [==============================] - 0s 4ms/step - loss: 0.4633 - accuracy: 0.8605 - val_loss: 0.5051 - val_accuracy: 0.7679\n",
            "Epoch 62/100\n",
            "12/12 [==============================] - 0s 4ms/step - loss: 0.3721 - accuracy: 0.9079 - val_loss: 0.5042 - val_accuracy: 0.7679\n",
            "Epoch 63/100\n",
            "12/12 [==============================] - 0s 16ms/step - loss: 0.3678 - accuracy: 0.9031 - val_loss: 0.5038 - val_accuracy: 0.7679\n",
            "Epoch 64/100\n",
            "12/12 [==============================] - 0s 5ms/step - loss: 0.4460 - accuracy: 0.8425 - val_loss: 0.5028 - val_accuracy: 0.7679\n",
            "Epoch 65/100\n",
            "12/12 [==============================] - 0s 5ms/step - loss: 0.4049 - accuracy: 0.8582 - val_loss: 0.5019 - val_accuracy: 0.7679\n",
            "Epoch 66/100\n",
            "12/12 [==============================] - 0s 5ms/step - loss: 0.3884 - accuracy: 0.8661 - val_loss: 0.5003 - val_accuracy: 0.7679\n",
            "Epoch 67/100\n",
            "12/12 [==============================] - 0s 4ms/step - loss: 0.4227 - accuracy: 0.8786 - val_loss: 0.5015 - val_accuracy: 0.7679\n",
            "Epoch 68/100\n",
            "12/12 [==============================] - 0s 4ms/step - loss: 0.4252 - accuracy: 0.8596 - val_loss: 0.5003 - val_accuracy: 0.7679\n",
            "Epoch 69/100\n",
            "12/12 [==============================] - 0s 5ms/step - loss: 0.3589 - accuracy: 0.8818 - val_loss: 0.5003 - val_accuracy: 0.7679\n",
            "Epoch 70/100\n",
            "12/12 [==============================] - 0s 5ms/step - loss: 0.3712 - accuracy: 0.8620 - val_loss: 0.5000 - val_accuracy: 0.7679\n",
            "Epoch 71/100\n",
            "12/12 [==============================] - 0s 4ms/step - loss: 0.3843 - accuracy: 0.9021 - val_loss: 0.5003 - val_accuracy: 0.7679\n",
            "Epoch 72/100\n",
            "12/12 [==============================] - 0s 4ms/step - loss: 0.3653 - accuracy: 0.8923 - val_loss: 0.4994 - val_accuracy: 0.7857\n",
            "Epoch 73/100\n",
            "12/12 [==============================] - 0s 4ms/step - loss: 0.4343 - accuracy: 0.8492 - val_loss: 0.4993 - val_accuracy: 0.7857\n",
            "Epoch 74/100\n",
            "12/12 [==============================] - 0s 4ms/step - loss: 0.3677 - accuracy: 0.8782 - val_loss: 0.4993 - val_accuracy: 0.7857\n",
            "Epoch 75/100\n",
            "12/12 [==============================] - 0s 5ms/step - loss: 0.3437 - accuracy: 0.8962 - val_loss: 0.4979 - val_accuracy: 0.7857\n",
            "Epoch 76/100\n",
            "12/12 [==============================] - 0s 4ms/step - loss: 0.3554 - accuracy: 0.8670 - val_loss: 0.4981 - val_accuracy: 0.7857\n",
            "Epoch 77/100\n",
            "12/12 [==============================] - 0s 5ms/step - loss: 0.3945 - accuracy: 0.8792 - val_loss: 0.4981 - val_accuracy: 0.7857\n",
            "Epoch 78/100\n",
            "12/12 [==============================] - 0s 4ms/step - loss: 0.3716 - accuracy: 0.8689 - val_loss: 0.4974 - val_accuracy: 0.7857\n",
            "Epoch 79/100\n",
            "12/12 [==============================] - 0s 4ms/step - loss: 0.3112 - accuracy: 0.9072 - val_loss: 0.4973 - val_accuracy: 0.7857\n",
            "Epoch 80/100\n",
            "12/12 [==============================] - 0s 5ms/step - loss: 0.3981 - accuracy: 0.8388 - val_loss: 0.4994 - val_accuracy: 0.7679\n",
            "Epoch 81/100\n",
            "12/12 [==============================] - 0s 5ms/step - loss: 0.3840 - accuracy: 0.8763 - val_loss: 0.4979 - val_accuracy: 0.7679\n",
            "Epoch 82/100\n",
            "12/12 [==============================] - 0s 5ms/step - loss: 0.3791 - accuracy: 0.8756 - val_loss: 0.4984 - val_accuracy: 0.7679\n",
            "Epoch 83/100\n",
            "12/12 [==============================] - 0s 4ms/step - loss: 0.3511 - accuracy: 0.9040 - val_loss: 0.4992 - val_accuracy: 0.7679\n",
            "Epoch 84/100\n",
            "12/12 [==============================] - 0s 5ms/step - loss: 0.3825 - accuracy: 0.8847 - val_loss: 0.4998 - val_accuracy: 0.7679\n",
            "Epoch 85/100\n",
            "12/12 [==============================] - 0s 4ms/step - loss: 0.3104 - accuracy: 0.9217 - val_loss: 0.4987 - val_accuracy: 0.7679\n",
            "Epoch 86/100\n",
            "12/12 [==============================] - 0s 4ms/step - loss: 0.3620 - accuracy: 0.8973 - val_loss: 0.4970 - val_accuracy: 0.7679\n",
            "Epoch 87/100\n",
            "12/12 [==============================] - 0s 5ms/step - loss: 0.3193 - accuracy: 0.9076 - val_loss: 0.4952 - val_accuracy: 0.7857\n",
            "Epoch 88/100\n",
            "12/12 [==============================] - 0s 4ms/step - loss: 0.3879 - accuracy: 0.8877 - val_loss: 0.4961 - val_accuracy: 0.7679\n",
            "Epoch 89/100\n",
            "12/12 [==============================] - 0s 4ms/step - loss: 0.3642 - accuracy: 0.8552 - val_loss: 0.4965 - val_accuracy: 0.7679\n",
            "Epoch 90/100\n",
            "12/12 [==============================] - 0s 5ms/step - loss: 0.3151 - accuracy: 0.9053 - val_loss: 0.4940 - val_accuracy: 0.7857\n",
            "Epoch 91/100\n",
            "12/12 [==============================] - 0s 4ms/step - loss: 0.3401 - accuracy: 0.8913 - val_loss: 0.4936 - val_accuracy: 0.7857\n",
            "Epoch 92/100\n",
            "12/12 [==============================] - 0s 4ms/step - loss: 0.3464 - accuracy: 0.8875 - val_loss: 0.4928 - val_accuracy: 0.7857\n",
            "Epoch 93/100\n",
            "12/12 [==============================] - 0s 4ms/step - loss: 0.3309 - accuracy: 0.9134 - val_loss: 0.4917 - val_accuracy: 0.7857\n",
            "Epoch 94/100\n",
            "12/12 [==============================] - 0s 5ms/step - loss: 0.3725 - accuracy: 0.8778 - val_loss: 0.4916 - val_accuracy: 0.7857\n",
            "Epoch 95/100\n",
            "12/12 [==============================] - 0s 4ms/step - loss: 0.3792 - accuracy: 0.8668 - val_loss: 0.4910 - val_accuracy: 0.7857\n",
            "Epoch 96/100\n",
            "12/12 [==============================] - 0s 4ms/step - loss: 0.3571 - accuracy: 0.8787 - val_loss: 0.4912 - val_accuracy: 0.7679\n",
            "Epoch 97/100\n",
            "12/12 [==============================] - 0s 4ms/step - loss: 0.3223 - accuracy: 0.8777 - val_loss: 0.4915 - val_accuracy: 0.7679\n",
            "Epoch 98/100\n",
            "12/12 [==============================] - 0s 5ms/step - loss: 0.2849 - accuracy: 0.9126 - val_loss: 0.4906 - val_accuracy: 0.7679\n",
            "Epoch 99/100\n",
            "12/12 [==============================] - 0s 5ms/step - loss: 0.3116 - accuracy: 0.9036 - val_loss: 0.4903 - val_accuracy: 0.7679\n",
            "Epoch 100/100\n",
            "12/12 [==============================] - 0s 5ms/step - loss: 0.2849 - accuracy: 0.9031 - val_loss: 0.4919 - val_accuracy: 0.7679\n"
          ],
          "name": "stdout"
        }
      ]
    },
    {
      "cell_type": "code",
      "metadata": {
        "colab": {
          "base_uri": "https://localhost:8080/"
        },
        "id": "O-zIG5_-5TEQ",
        "outputId": "332736a5-98dd-401e-ccb6-7ad0facf02db"
      },
      "source": [
        "#Making the predictions and evaluating the model\r\n",
        "#Predicting the Test set results \r\n",
        "y_pred= classifier.predict(X_test)\r\n",
        "y_pred= (y_pred > 0.5)\r\n",
        "print(y_pred)"
      ],
      "execution_count": 57,
      "outputs": [
        {
          "output_type": "stream",
          "text": [
            "[[ True]\n",
            " [ True]\n",
            " [ True]\n",
            " [ True]\n",
            " [ True]\n",
            " [False]\n",
            " [False]\n",
            " [ True]\n",
            " [False]\n",
            " [ True]\n",
            " [False]\n",
            " [False]\n",
            " [False]\n",
            " [False]\n",
            " [False]\n",
            " [ True]\n",
            " [False]\n",
            " [False]\n",
            " [ True]\n",
            " [False]\n",
            " [ True]\n",
            " [ True]\n",
            " [ True]\n",
            " [False]\n",
            " [False]\n",
            " [ True]\n",
            " [False]\n",
            " [False]\n",
            " [False]\n",
            " [False]\n",
            " [ True]\n",
            " [ True]\n",
            " [ True]\n",
            " [False]\n",
            " [False]\n",
            " [ True]\n",
            " [ True]\n",
            " [ True]\n",
            " [ True]\n",
            " [False]\n",
            " [ True]\n",
            " [False]\n",
            " [ True]]\n"
          ],
          "name": "stdout"
        }
      ]
    },
    {
      "cell_type": "code",
      "metadata": {
        "colab": {
          "base_uri": "https://localhost:8080/"
        },
        "id": "yqtzVavv_7kZ",
        "outputId": "4c491213-9ce8-49b2-d628-9f77060d0542"
      },
      "source": [
        "#Making the confusion matrix\r\n",
        "from sklearn.metrics import confusion_matrix\r\n",
        "cm= confusion_matrix(y_test, y_pred)\r\n",
        "print(cm)"
      ],
      "execution_count": 58,
      "outputs": [
        {
          "output_type": "stream",
          "text": [
            "[[14  4]\n",
            " [ 7 18]]\n"
          ],
          "name": "stdout"
        }
      ]
    },
    {
      "cell_type": "code",
      "metadata": {
        "colab": {
          "base_uri": "https://localhost:8080/"
        },
        "id": "zVlUHd09Abzi",
        "outputId": "4c1cf4a7-30d3-4e50-e626-43160c943cfa"
      },
      "source": [
        "from sklearn.metrics import accuracy_score\r\n",
        "score= accuracy_score(y_pred, y_test)\r\n",
        "print(score)"
      ],
      "execution_count": 59,
      "outputs": [
        {
          "output_type": "stream",
          "text": [
            "0.7441860465116279\n"
          ],
          "name": "stdout"
        }
      ]
    },
    {
      "cell_type": "code",
      "metadata": {
        "colab": {
          "base_uri": "https://localhost:8080/"
        },
        "id": "Cre9xEtDE8Z7",
        "outputId": "954628ad-b7db-4e83-d7f2-8e89a977ef5f"
      },
      "source": [
        "#List all data in history\r\n",
        "print(model_history.history.keys())\r\n"
      ],
      "execution_count": 60,
      "outputs": [
        {
          "output_type": "stream",
          "text": [
            "dict_keys(['loss', 'accuracy', 'val_loss', 'val_accuracy'])\n"
          ],
          "name": "stdout"
        }
      ]
    },
    {
      "cell_type": "code",
      "metadata": {
        "colab": {
          "base_uri": "https://localhost:8080/",
          "height": 294
        },
        "id": "nm3IvSn2Iy3t",
        "outputId": "812d291e-c305-4c96-9320-8937bde2cd4c"
      },
      "source": [
        "#Summarize history for accuracy\r\n",
        "plt.plot(model_history.history['accuracy'])\r\n",
        "plt.plot(model_history.history['val_accuracy'])\r\n",
        "plt.title('model accuracy')\r\n",
        "plt.ylabel('accuracy')\r\n",
        "plt.xlabel('epoch')\r\n",
        "plt.legend(['train', 'test'], loc= 'upper left')\r\n",
        "plt.show()"
      ],
      "execution_count": 63,
      "outputs": [
        {
          "output_type": "display_data",
          "data": {
            "image/png": "[encoded data removed]",
            "text/plain": [
              "<Figure size 432x288 with 1 Axes>"
            ]
          },
          "metadata": {
            "tags": [],
            "needs_background": "light"
          }
        }
      ]
    },
    {
      "cell_type": "code",
      "metadata": {
        "id": "LJeQ_fs2JqxX"
      },
      "source": [
        ""
      ],
      "execution_count": null,
      "outputs": []
    }
  ]
}